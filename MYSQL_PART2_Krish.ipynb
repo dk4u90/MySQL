{
 "cells": [
  {
   "cell_type": "code",
   "execution_count": 1,
   "metadata": {},
   "outputs": [],
   "source": [
    "import mysql.connector as sql"
   ]
  },
  {
   "cell_type": "code",
   "execution_count": 2,
   "metadata": {},
   "outputs": [
    {
     "name": "stdout",
     "output_type": "stream",
     "text": [
      "<mysql.connector.connection_cext.CMySQLConnection object at 0x0000000006263A30>\n"
     ]
    }
   ],
   "source": [
    "connection = sql.connect(host='localhost',user='root',password='sdk1437@sql',database='bank')\n",
    "print(connection)"
   ]
  },
  {
   "cell_type": "code",
   "execution_count": 3,
   "metadata": {},
   "outputs": [],
   "source": [
    "cursor = connection.cursor()"
   ]
  },
  {
   "cell_type": "code",
   "execution_count": 4,
   "metadata": {},
   "outputs": [
    {
     "data": {
      "text/plain": [
       "[('ID', b'int', 'YES', '', None, ''),\n",
       " ('Name', b'varchar(255)', 'YES', '', None, ''),\n",
       " ('Account', b'int', 'NO', 'PRI', None, ''),\n",
       " ('Balance', b'int', 'YES', '', None, ''),\n",
       " ('Bank', b'char(3)', 'YES', '', None, '')]"
      ]
     },
     "execution_count": 4,
     "metadata": {},
     "output_type": "execute_result"
    }
   ],
   "source": [
    "cursor.execute('desc bankinfo')\n",
    "cursor.fetchall()"
   ]
  },
  {
   "cell_type": "code",
   "execution_count": 5,
   "metadata": {},
   "outputs": [],
   "source": [
    "query='insert into bankinfo(ID,Name,Account,Balance,Bank) values(%s,%s,%s,%s,%s)'"
   ]
  },
  {
   "cell_type": "code",
   "execution_count": 6,
   "metadata": {},
   "outputs": [
    {
     "name": "stdout",
     "output_type": "stream",
     "text": [
      "Row inserted 0\n"
     ]
    }
   ],
   "source": [
    "values = (2,'Sohan',987456321,150000,'CBI')\n",
    "cursor.execute(query,values)\n",
    "print('Row inserted',cursor.lastrowid)"
   ]
  },
  {
   "cell_type": "code",
   "execution_count": 7,
   "metadata": {},
   "outputs": [
    {
     "data": {
      "text/plain": [
       "[(2, 'Sohan', 987456321, 150000, 'CBI')]"
      ]
     },
     "execution_count": 7,
     "metadata": {},
     "output_type": "execute_result"
    }
   ],
   "source": [
    "cursor.execute('select * from bankinfo')\n",
    "cursor.fetchall()"
   ]
  },
  {
   "cell_type": "code",
   "execution_count": 8,
   "metadata": {},
   "outputs": [
    {
     "name": "stdout",
     "output_type": "stream",
     "text": [
      "Row inserted 0\n"
     ]
    }
   ],
   "source": [
    "values = (3,'Rohanohan',987456123,250000,'SBI')\n",
    "cursor.execute(query,values)\n",
    "print('Row inserted',cursor.lastrowid)"
   ]
  },
  {
   "cell_type": "code",
   "execution_count": 9,
   "metadata": {},
   "outputs": [
    {
     "data": {
      "text/plain": [
       "[(3, 'Rohanohan', 987456123, 250000, 'SBI'),\n",
       " (2, 'Sohan', 987456321, 150000, 'CBI')]"
      ]
     },
     "execution_count": 9,
     "metadata": {},
     "output_type": "execute_result"
    }
   ],
   "source": [
    "cursor.execute('select * from bankinfo')\n",
    "cursor.fetchall()"
   ]
  },
  {
   "cell_type": "code",
   "execution_count": 10,
   "metadata": {},
   "outputs": [
    {
     "name": "stdout",
     "output_type": "stream",
     "text": [
      "Row inserted 0\n"
     ]
    }
   ],
   "source": [
    "values = (1,'Mohan',123987456,257000,'BOI')\n",
    "cursor.execute(query,values)\n",
    "print('Row inserted',cursor.lastrowid)"
   ]
  },
  {
   "cell_type": "code",
   "execution_count": 11,
   "metadata": {},
   "outputs": [
    {
     "data": {
      "text/plain": [
       "[(1, 'Mohan', 123987456, 257000, 'BOI'),\n",
       " (3, 'Rohanohan', 987456123, 250000, 'SBI'),\n",
       " (2, 'Sohan', 987456321, 150000, 'CBI')]"
      ]
     },
     "execution_count": 11,
     "metadata": {},
     "output_type": "execute_result"
    }
   ],
   "source": [
    "cursor.execute('select * from bankinfo')\n",
    "cursor.fetchall()"
   ]
  },
  {
   "cell_type": "code",
   "execution_count": 12,
   "metadata": {},
   "outputs": [
    {
     "name": "stdout",
     "output_type": "stream",
     "text": [
      "Row inserted 0\n"
     ]
    }
   ],
   "source": [
    "values = [(4,'Ram',123789456,237000,'IDB'),(5,'Naresh',321789456,337000,'BOI')]\n",
    "cursor.executemany(query,values)\n",
    "print('Row inserted',cursor.lastrowid)"
   ]
  },
  {
   "cell_type": "code",
   "execution_count": 13,
   "metadata": {},
   "outputs": [
    {
     "data": {
      "text/plain": [
       "[(4, 'Ram', 123789456, 237000, 'IDB'),\n",
       " (1, 'Mohan', 123987456, 257000, 'BOI'),\n",
       " (5, 'Naresh', 321789456, 337000, 'BOI'),\n",
       " (3, 'Rohanohan', 987456123, 250000, 'SBI'),\n",
       " (2, 'Sohan', 987456321, 150000, 'CBI')]"
      ]
     },
     "execution_count": 13,
     "metadata": {},
     "output_type": "execute_result"
    }
   ],
   "source": [
    "cursor.execute('select * from bankinfo')\n",
    "cursor.fetchall()"
   ]
  },
  {
   "cell_type": "code",
   "execution_count": 14,
   "metadata": {},
   "outputs": [
    {
     "name": "stdout",
     "output_type": "stream",
     "text": [
      "Row inserted 0\n"
     ]
    }
   ],
   "source": [
    "values = [(6,'Gopal',123789654,337000,'SBI'),(5,'Sanjay',321987654,437000,'CBI')]\n",
    "cursor.executemany(query,values)\n",
    "print('Row inserted',cursor.lastrowid)"
   ]
  },
  {
   "cell_type": "code",
   "execution_count": 15,
   "metadata": {},
   "outputs": [
    {
     "data": {
      "text/plain": [
       "[(4, 'Ram', 123789456, 237000, 'IDB'),\n",
       " (6, 'Gopal', 123789654, 337000, 'SBI'),\n",
       " (1, 'Mohan', 123987456, 257000, 'BOI'),\n",
       " (5, 'Naresh', 321789456, 337000, 'BOI'),\n",
       " (5, 'Sanjay', 321987654, 437000, 'CBI'),\n",
       " (3, 'Rohanohan', 987456123, 250000, 'SBI'),\n",
       " (2, 'Sohan', 987456321, 150000, 'CBI')]"
      ]
     },
     "execution_count": 15,
     "metadata": {},
     "output_type": "execute_result"
    }
   ],
   "source": [
    "cursor.execute('select * from bankinfo')\n",
    "cursor.fetchall()"
   ]
  },
  {
   "cell_type": "code",
   "execution_count": 16,
   "metadata": {},
   "outputs": [
    {
     "data": {
      "text/plain": [
       "[(1, 'Mohan', 123987456, 257000, 'BOI')]"
      ]
     },
     "execution_count": 16,
     "metadata": {},
     "output_type": "execute_result"
    }
   ],
   "source": [
    "cursor.execute('select * from bankinfo where Name = \"Mohan\"')\n",
    "cursor.fetchall()"
   ]
  },
  {
   "cell_type": "code",
   "execution_count": 17,
   "metadata": {},
   "outputs": [
    {
     "data": {
      "text/plain": [
       "[('Ram',),\n",
       " ('Gopal',),\n",
       " ('Mohan',),\n",
       " ('Naresh',),\n",
       " ('Sanjay',),\n",
       " ('Rohanohan',),\n",
       " ('Sohan',)]"
      ]
     },
     "execution_count": 17,
     "metadata": {},
     "output_type": "execute_result"
    }
   ],
   "source": [
    "cursor.execute('select Name from  bankinfo')\n",
    "cursor.fetchall()"
   ]
  },
  {
   "cell_type": "code",
   "execution_count": 19,
   "metadata": {},
   "outputs": [
    {
     "data": {
      "text/plain": [
       "[(257000, 'BOI')]"
      ]
     },
     "execution_count": 19,
     "metadata": {},
     "output_type": "execute_result"
    }
   ],
   "source": [
    "cursor.execute('select Balance, Bank from bankinfo where Name=\"Mohan\"')\n",
    "cursor.fetchall()"
   ]
  },
  {
   "cell_type": "code",
   "execution_count": null,
   "metadata": {},
   "outputs": [],
   "source": []
  }
 ],
 "metadata": {
  "kernelspec": {
   "display_name": "Python 3",
   "language": "python",
   "name": "python3"
  },
  "language_info": {
   "codemirror_mode": {
    "name": "ipython",
    "version": 3
   },
   "file_extension": ".py",
   "mimetype": "text/x-python",
   "name": "python",
   "nbconvert_exporter": "python",
   "pygments_lexer": "ipython3",
   "version": "3.8.5"
  }
 },
 "nbformat": 4,
 "nbformat_minor": 4
}
